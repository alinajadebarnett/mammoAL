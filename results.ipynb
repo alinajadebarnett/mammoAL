{
 "cells": [
  {
   "cell_type": "code",
   "execution_count": 24,
   "id": "b1ced810-f608-4bcd-9dd1-5ff3d76c22a7",
   "metadata": {},
   "outputs": [],
   "source": [
    "import csv\n",
    "import os\n",
    "\n",
    "base = \"Run_1_11_p0\"\n",
    "\n",
    "\n",
    "percentiles = [1,2,3,4,6,7,8,9]\n",
    "seeds = [44,22,33]"
   ]
  },
  {
   "cell_type": "code",
   "execution_count": 28,
   "id": "b974a684-26f2-4845-af1d-68c0cd88937b",
   "metadata": {
    "scrolled": true
   },
   "outputs": [
    {
     "name": "stdout",
     "output_type": "stream",
     "text": [
      "hi\n",
      "24\n",
      "['', 'random_seed', 'query_type', 'num_manually_labelled', 'img_seen', 'iter_num', 'IOU', 'saved_model_location']\n",
      "['', 'random_seed', 'query_type', 'num_manually_labelled', 'img_seen', 'iter_num', 'IOU', 'saved_model_location']\n",
      "['', 'random_seed', 'query_type', 'num_manually_labelled', 'img_seen', 'iter_num', 'IOU', 'saved_model_location']\n",
      "['', 'random_seed', 'query_type', 'num_manually_labelled', 'img_seen', 'iter_num', 'IOU', 'saved_model_location']\n",
      "['', 'random_seed', 'query_type', 'num_manually_labelled', 'img_seen', 'iter_num', 'IOU', 'saved_model_location']\n",
      "['', 'random_seed', 'query_type', 'num_manually_labelled', 'img_seen', 'iter_num', 'IOU', 'saved_model_location']\n",
      "['', 'random_seed', 'query_type', 'num_manually_labelled', 'img_seen', 'iter_num', 'IOU', 'saved_model_location']\n",
      "['', 'random_seed', 'query_type', 'num_manually_labelled', 'img_seen', 'iter_num', 'IOU', 'saved_model_location']\n",
      "['', 'random_seed', 'query_type', 'num_manually_labelled', 'img_seen', 'iter_num', 'IOU', 'saved_model_location']\n",
      "['', 'random_seed', 'query_type', 'num_manually_labelled', 'img_seen', 'iter_num', 'IOU', 'saved_model_location']\n",
      "['', 'random_seed', 'query_type', 'num_manually_labelled', 'img_seen', 'iter_num', 'IOU', 'saved_model_location']\n",
      "['', 'random_seed', 'query_type', 'num_manually_labelled', 'img_seen', 'iter_num', 'IOU', 'saved_model_location']\n",
      "['', 'random_seed', 'query_type', 'num_manually_labelled', 'img_seen', 'iter_num', 'IOU', 'saved_model_location']\n",
      "['', 'random_seed', 'query_type', 'num_manually_labelled', 'img_seen', 'iter_num', 'IOU', 'saved_model_location']\n",
      "['', 'random_seed', 'query_type', 'num_manually_labelled', 'img_seen', 'iter_num', 'IOU', 'saved_model_location']\n",
      "['', 'random_seed', 'query_type', 'num_manually_labelled', 'img_seen', 'iter_num', 'IOU', 'saved_model_location']\n",
      "['', 'random_seed', 'query_type', 'num_manually_labelled', 'img_seen', 'iter_num', 'IOU', 'saved_model_location']\n",
      "['', 'random_seed', 'query_type', 'num_manually_labelled', 'img_seen', 'iter_num', 'IOU', 'saved_model_location']\n",
      "['', 'random_seed', 'query_type', 'num_manually_labelled', 'img_seen', 'iter_num', 'IOU', 'saved_model_location']\n",
      "['', 'random_seed', 'query_type', 'num_manually_labelled', 'img_seen', 'iter_num', 'IOU', 'saved_model_location']\n",
      "['', 'random_seed', 'query_type', 'num_manually_labelled', 'img_seen', 'iter_num', 'IOU', 'saved_model_location']\n",
      "['', 'random_seed', 'query_type', 'num_manually_labelled', 'img_seen', 'iter_num', 'IOU', 'saved_model_location']\n",
      "['', 'random_seed', 'query_type', 'num_manually_labelled', 'img_seen', 'iter_num', 'IOU', 'saved_model_location']\n",
      "['', 'random_seed', 'query_type', 'num_manually_labelled', 'img_seen', 'iter_num', 'IOU', 'saved_model_location']\n",
      "Percentile: 0.6. IOU: [0.6219863134805134, 0.607801434641253, 0.6002887642607194]\n",
      "Man Labelled: [0.5279126213592233, 0.5825242718446602, 0.5533980582524272]. Total Seen: [0.5279126213592233, 0.5825242718446602, 0.5533980582524272]\n",
      "Percentile: 0.3. IOU: [0.6252581848763489, 0.6396822334047692, 0.628980325224939]\n",
      "Man Labelled: [0.5643203883495146, 0.5728155339805825, 0.5339805825242718]. Total Seen: [0.5643203883495146, 0.5728155339805825, 0.5339805825242718]\n",
      "Percentile: 0.4. IOU: [0.6185654493053331, 0.6173763122327157, 0.628559201113275]\n",
      "Man Labelled: [0.5461165048543689, 0.5716019417475728, 0.5728155339805825]. Total Seen: [0.5461165048543689, 0.5716019417475728, 0.5728155339805825]\n",
      "Percentile: 0.8. IOU: [0.6070393689067151, 0.6172648409543843, 0.6314128319688675]\n",
      "Man Labelled: [0.537621359223301, 0.5776699029126213, 0.5509708737864077]. Total Seen: [0.537621359223301, 0.5776699029126213, 0.5509708737864077]\n",
      "Percentile: 0.7. IOU: [0.618692756754204, 0.6130879787511161, 0.6019923741775711]\n",
      "Man Labelled: [0.5594660194174758, 0.5449029126213593, 0.5934466019417476]. Total Seen: [0.5594660194174758, 0.5449029126213593, 0.5934466019417476]\n",
      "Percentile: 0.2. IOU: [0.6293200496298307, 0.6362533827508878, 0.6296975485891556]\n",
      "Man Labelled: [0.5546116504854369, 0.5497572815533981, 0.5655339805825242]. Total Seen: [0.5546116504854369, 0.5497572815533981, 0.5655339805825242]\n",
      "Percentile: 0.1. IOU: [0.629385368490747, 0.6337418848950455, 0.6269709208399963]\n",
      "Man Labelled: [0.5449029126213593, 0.5570388349514563, 0.5594660194174758]. Total Seen: [0.5449029126213593, 0.5570388349514563, 0.5594660194174758]\n",
      "Percentile: 0.9. IOU: [0.6201444184000855, 0.6210199993298212, 0.6067403150981421]\n",
      "Man Labelled: [0.5691747572815534, 0.5618932038834952, 0.5691747572815534]. Total Seen: [0.5691747572815534, 0.5618932038834952, 0.5691747572815534]\n"
     ]
    }
   ],
   "source": [
    "print(\"hi\")\n",
    "\n",
    "results_path = \"/usr/xtmp/vs196/ReRunOutputs/AllOracleRuns/\"\n",
    "\n",
    "run_folders = []\n",
    "\n",
    "for filename in os.listdir(results_path):\n",
    "    if base in filename and 'p09' not in filename:\n",
    "        run_folders.append(filename)\n",
    "run_folders.append('Run_1_11_p09_22_22')\n",
    "run_folders.append('Run_1_11_p09_33_2_33')\n",
    "run_folders.append('Run_1_11_p09_44_3_44')\n",
    "\n",
    "print(len(run_folders))\n",
    "\n",
    "\n",
    "outputs = dict()\n",
    "\n",
    "label_outputs = dict()\n",
    "\n",
    "for run in run_folders:\n",
    "    full_path = f\"{results_path}{run}/segmenter_output.csv\"\n",
    "    percentile = int(run.split(\"_\")[3][-1])\n",
    "    # if percentile==9:\n",
    "    #     continue\n",
    "\n",
    "    with open(full_path, 'r') as file:\n",
    "        csv_reader = csv.reader(file)\n",
    "        idx = 0\n",
    "        max_iou = -1.0\n",
    "        manually_labeled = 0\n",
    "        img_seen = 0\n",
    "        for row in csv_reader:\n",
    "            if idx==0:\n",
    "                print(row)\n",
    "                idx += 1\n",
    "                continue\n",
    "            imgs_seen = int(row[4])\n",
    "            manually_labelled = int(row[3])\n",
    "            max_iou = max(max_iou, float(row[6]))\n",
    "        if percentile not in outputs:\n",
    "            outputs[percentile] = []\n",
    "        outputs[percentile].append(max_iou)\n",
    "        if percentile not in label_outputs:\n",
    "            label_outputs[percentile] = []\n",
    "        label_outputs[percentile].append(manually_labelled/imgs_seen)\n",
    "        \n",
    "\n",
    "    \n",
    "for percentile in outputs:\n",
    "    print(f\"Percentile: 0.{percentile}. IOU: {outputs[percentile]}\")\n",
    "    print(f\"Man Labelled: {label_outputs[percentile]}. Total Seen: {label_outputs[percentile]}\")"
   ]
  },
  {
   "cell_type": "code",
   "execution_count": 40,
   "id": "e5d98fbf-a2ce-4532-9e75-b380285a1d47",
   "metadata": {},
   "outputs": [
    {
     "name": "stdout",
     "output_type": "stream",
     "text": [
      "Percentile 0.1. IOU is: 44.619741100323616\n",
      "Percentile 0.2. IOU is: 44.336569579288025\n",
      "Percentile 0.3. IOU is: 44.296116504854375\n",
      "Percentile 0.4. IOU is: 43.648867313915865\n",
      "Percentile 0.6. IOU is: 44.53883495145631\n",
      "Percentile 0.7. IOU is: 43.40614886731391\n",
      "Percentile 0.8. IOU is: 44.457928802588995\n",
      "Percentile 0.9. IOU is: 43.3252427184466\n"
     ]
    }
   ],
   "source": [
    "import numpy as np\n",
    "\n",
    "for i in [1,2,3,4,6,7,8,9]:\n",
    "    print(f\"Percentile 0.{i}. IOU is: {(1-np.mean(label_outputs[i]))*100}\")"
   ]
  },
  {
   "cell_type": "code",
   "execution_count": 6,
   "id": "45dcb9a8-a04d-420c-b3d1-12454e236e09",
   "metadata": {},
   "outputs": [],
   "source": [
    "from scipy.stats import f_oneway, ttest_ind\n",
    "\n",
    "\n",
    "output = f_oneway(outputs[1], outputs[2], outputs[3], outputs[4],outputs[6],outputs[7],outputs[8])"
   ]
  },
  {
   "cell_type": "code",
   "execution_count": 26,
   "id": "00914326-cb4d-4092-9d94-e1cf2e8d7fa4",
   "metadata": {},
   "outputs": [
    {
     "name": "stdout",
     "output_type": "stream",
     "text": [
      "F_onewayResult(statistic=3.898713880460344, pvalue=0.016850147334623273)\n"
     ]
    }
   ],
   "source": [
    "print(output)"
   ]
  },
  {
   "cell_type": "code",
   "execution_count": 47,
   "id": "ad21498b-b3a6-4cbb-ad63-294cfd83bce7",
   "metadata": {},
   "outputs": [
    {
     "name": "stdout",
     "output_type": "stream",
     "text": [
      "(comparing 1 and 2: TtestResult(statistic=-0.4366480030862618, pvalue=0.6849027124077501, df=4.0)\n",
      "(comparing 1 and 3: TtestResult(statistic=-0.2564682254549887, pvalue=0.8102399580171992, df=4.0)\n",
      "(comparing 1 and 4: TtestResult(statistic=-0.9905860120955832, pvalue=0.377961674858311, df=4.0)\n",
      "(comparing 1 and 6: TtestResult(statistic=-0.049311367272151574, pvalue=0.9630351979168661, df=4.0)\n",
      "(comparing 1 and 7: TtestResult(statistic=-0.8052421906425286, pvalue=0.465820395155955, df=4.0)\n",
      "(comparing 1 and 8: TtestResult(statistic=-0.12836610876113025, pvalue=0.9040544949200742, df=4.0)\n",
      "(comparing 1 and 9: TtestResult(statistic=-2.5298221281346964, pvalue=0.06467689395635356, df=4.0)\n"
     ]
    }
   ],
   "source": [
    "for i in [1]:\n",
    "    for j in [1,2,3,4,6,7,8,9]:\n",
    "        if i==j:\n",
    "            continue\n",
    "        print(f\"(comparing {i} and {j}: {ttest_ind(label_outputs[i],label_outputs[j])}\")\n",
    "    \n",
    "\n",
    "##test_1_8 = ttest_ind(outputs[1],outputs[2])\n",
    "#test_1_8"
   ]
  },
  {
   "cell_type": "code",
   "execution_count": 11,
   "id": "d65811c6-31da-4127-936b-8018ab0b1c82",
   "metadata": {},
   "outputs": [
    {
     "data": {
      "text/plain": [
       "TtestResult(statistic=-0.5750273378723386, pvalue=0.5960695063403253, df=4.0)"
      ]
     },
     "execution_count": 11,
     "metadata": {},
     "output_type": "execute_result"
    }
   ],
   "source": [
    "test_1_8"
   ]
  },
  {
   "cell_type": "code",
   "execution_count": null,
   "id": "54b3b27e-561a-4dea-a7ad-c350d1fd15a9",
   "metadata": {},
   "outputs": [],
   "source": []
  },
  {
   "cell_type": "code",
   "execution_count": 22,
   "id": "483fbbcb-f3d0-4258-9412-48697f963b8d",
   "metadata": {},
   "outputs": [
    {
     "ename": "SyntaxError",
     "evalue": "unterminated string literal (detected at line 2) (459423452.py, line 2)",
     "output_type": "error",
     "traceback": [
      "\u001b[0;36m  Cell \u001b[0;32mIn[22], line 2\u001b[0;36m\u001b[0m\n\u001b[0;31m    b2 = f\"{os.path.join(results_path, 'Run_1_21_best_33_33')}/segmenter.csv\u001b[0m\n\u001b[0m         ^\u001b[0m\n\u001b[0;31mSyntaxError\u001b[0m\u001b[0;31m:\u001b[0m unterminated string literal (detected at line 2)\n"
     ]
    }
   ],
   "source": [
    "b1 = f\"{os.path.join(results_path, 'Run_1_10_best_44_44')}/segmenter.csv\"\n",
    "b2 = f\"{os.path.join(results_path, 'Run_1_21_best_33_33')}/segmenter.csv\"\n",
    "b3 = f\"{os.path.join(results_path, 'Run_1_10_best_22_22')}/segmenter.csv\"\n",
    "\n",
    "\n",
    "with open(b1, 'r') as f:\n",
    "    csv_reader = csv.reader(file)\n",
    "        idx = 0\n",
    "        max_iou = -1.0\n",
    "        for row in csv_reader:\n",
    "            if idx==0:\n",
    "                idx += 1\n",
    "                continue\n",
    "            max_iou = max(max_iou, float(row[6]))\n",
    "        if percentile not in outputs:\n",
    "            outputs[percentile] = []\n",
    "        outputs[percentile].append(max_iou)\n",
    "    "
   ]
  },
  {
   "cell_type": "code",
   "execution_count": 23,
   "id": "cb8fd609-114d-412e-95f3-15cba7bb01a3",
   "metadata": {},
   "outputs": [
    {
     "name": "stdout",
     "output_type": "stream",
     "text": [
      "hi\n"
     ]
    }
   ],
   "source": [
    "print(\"hi\")"
   ]
  },
  {
   "cell_type": "code",
   "execution_count": 53,
   "id": "47d811f8-b812-4f42-8dcc-8666da0bae88",
   "metadata": {},
   "outputs": [
    {
     "name": "stdout",
     "output_type": "stream",
     "text": [
      "hi\n",
      "18\n",
      "['', 'random_seed', 'query_type', 'num_manually_labelled', 'img_seen', 'iter_num', 'IOU', 'saved_model_location']\n",
      "['', 'random_seed', 'query_type', 'num_manually_labelled', 'img_seen', 'iter_num', 'IOU', 'saved_model_location']\n",
      "['', 'random_seed', 'query_type', 'num_manually_labelled', 'img_seen', 'iter_num', 'IOU', 'saved_model_location']\n",
      "['', 'random_seed', 'query_type', 'num_manually_labelled', 'img_seen', 'iter_num', 'IOU', 'saved_model_location']\n",
      "['', 'random_seed', 'query_type', 'num_manually_labelled', 'img_seen', 'iter_num', 'IOU', 'saved_model_location']\n",
      "['', 'random_seed', 'query_type', 'num_manually_labelled', 'img_seen', 'iter_num', 'IOU', 'saved_model_location']\n",
      "['', 'random_seed', 'query_type', 'num_manually_labelled', 'img_seen', 'iter_num', 'IOU', 'saved_model_location']\n",
      "['', 'random_seed', 'query_type', 'num_manually_labelled', 'img_seen', 'iter_num', 'IOU', 'saved_model_location']\n",
      "['', 'random_seed', 'query_type', 'num_manually_labelled', 'img_seen', 'iter_num', 'IOU', 'saved_model_location']\n",
      "['', 'random_seed', 'query_type', 'num_manually_labelled', 'img_seen', 'iter_num', 'IOU', 'saved_model_location']\n",
      "['', 'random_seed', 'query_type', 'num_manually_labelled', 'img_seen', 'iter_num', 'IOU', 'saved_model_location']\n",
      "['', 'random_seed', 'query_type', 'num_manually_labelled', 'img_seen', 'iter_num', 'IOU', 'saved_model_location']\n",
      "['', 'random_seed', 'query_type', 'num_manually_labelled', 'img_seen', 'iter_num', 'IOU', 'saved_model_location']\n",
      "['', 'random_seed', 'query_type', 'num_manually_labelled', 'img_seen', 'iter_num', 'IOU', 'saved_model_location']\n",
      "['', 'random_seed', 'query_type', 'num_manually_labelled', 'img_seen', 'iter_num', 'IOU', 'saved_model_location']\n",
      "['', 'random_seed', 'query_type', 'num_manually_labelled', 'img_seen', 'iter_num', 'IOU', 'saved_model_location']\n",
      "['', 'random_seed', 'query_type', 'num_manually_labelled', 'img_seen', 'iter_num', 'IOU', 'saved_model_location']\n",
      "['', 'random_seed', 'query_type', 'num_manually_labelled', 'img_seen', 'iter_num', 'IOU', 'saved_model_location']\n",
      "Query: p01. IOU: [0.629385368490747, 0.6269709208399963, 0.6337418848950455]\n",
      "Man Labelled: [0.5449029126213593, 0.5594660194174758, 0.5570388349514563]. Total Seen: [0.5449029126213593, 0.5594660194174758, 0.5570388349514563]\n",
      "Query: best. IOU: [0.6310570130344554, 0.625819938697193, 0.6300576029740173]\n",
      "Man Labelled: [0.5327669902912622, 0.5594660194174758, 0.5497572815533981]. Total Seen: [0.5327669902912622, 0.5594660194174758, 0.5497572815533981]\n",
      "Query: worst. IOU: [0.6250433215689938, 0.6261049739533889, 0.6291771503593486]\n",
      "Man Labelled: [0.5436893203883495, 0.5533980582524272, 0.5800970873786407]. Total Seen: [0.5436893203883495, 0.5533980582524272, 0.5800970873786407]\n",
      "Query: middle. IOU: [0.6234954450416202, 0.6265116162935754, 0.6172260596965006]\n",
      "Man Labelled: [0.5740291262135923, 0.5691747572815534, 0.5594660194174758]. Total Seen: [0.5740291262135923, 0.5691747572815534, 0.5594660194174758]\n",
      "Query: uniform. IOU: [0.6189696820818025, 0.6234066781860079, 0.6184663275100244]\n",
      "Man Labelled: [0.5643203883495146, 0.5679611650485437, 0.5315533980582524]. Total Seen: [0.5643203883495146, 0.5679611650485437, 0.5315533980582524]\n",
      "Query: random. IOU: [0.6154685610364192, 0.6221013357261744, 0.6171087351303316]\n",
      "Man Labelled: [0.5716019417475728, 0.5558252427184466, 0.5521844660194175]. Total Seen: [0.5716019417475728, 0.5558252427184466, 0.5521844660194175]\n"
     ]
    }
   ],
   "source": [
    "print(\"hi\")\n",
    "\n",
    "results_path = \"/usr/xtmp/vs196/ReRunOutputs/AllOracleRuns/\"\n",
    "\n",
    "run_folders = []\n",
    "\n",
    "# for filename in os.listdir(results_path):\n",
    "#     if base in filename and 'p09' not in filename:\n",
    "#         run_folders.append(filename)\n",
    "\n",
    "run_folders.append('Run_1_11_p01_22_22')\n",
    "run_folders.append('Run_1_11_p01_33_33')\n",
    "run_folders.append('Run_1_11_p01_44_44')\n",
    "\n",
    "run_folders.append('Run_1_10_best_44_44')\n",
    "run_folders.append('Run_1_21_best_33_33')\n",
    "run_folders.append('Run_1_10_best_22_22')\n",
    "\n",
    "run_folders.append('Run_1_21_worst_33_33')\n",
    "run_folders.append('Run_1_21_worst_22_22')\n",
    "run_folders.append('Run_1_21_worst_44_44')\n",
    "\n",
    "run_folders.append('Run_1_21_middle_44_44')\n",
    "run_folders.append('Run_1_21_middle_33_33')\n",
    "run_folders.append('Run_1_21_middle_22_22')\n",
    "\n",
    "run_folders.append('Run_1_21_uniform_22_22')\n",
    "run_folders.append('Run_1_11_uniform_33_33')\n",
    "run_folders.append('Run_1_11_uniform_44_44')\n",
    "\n",
    "run_folders.append('Run_1_11_random_22_22')\n",
    "run_folders.append('Run_1_11_random_33_33')\n",
    "run_folders.append('Run_1_11_random_44_44')\n",
    "\n",
    "print(len(run_folders))\n",
    "\n",
    "\n",
    "outputs = dict()\n",
    "\n",
    "label_outputs = dict()\n",
    "\n",
    "series_outputs = dict()\n",
    "\n",
    "for run in run_folders:\n",
    "    full_path = f\"{results_path}{run}/segmenter_output.csv\"\n",
    "    query = run.split(\"_\")[3]\n",
    "    # if percentile==9:\n",
    "    #     continue\n",
    "\n",
    "    with open(full_path, 'r') as file:\n",
    "        csv_reader = csv.reader(file)\n",
    "        idx = 0\n",
    "        max_iou = -1.0\n",
    "        manually_labeled = 0\n",
    "        img_seen = 0\n",
    "        for row in csv_reader:\n",
    "            if idx==0:\n",
    "                print(row)\n",
    "                idx += 1\n",
    "                continue\n",
    "            imgs_seen = int(row[4])\n",
    "            manually_labelled = int(row[3])\n",
    "            max_iou = max(max_iou, float(row[6]))\n",
    "        if query not in outputs:\n",
    "            outputs[query] = []\n",
    "        outputs[query].append(max_iou)\n",
    "        if query not in label_outputs:\n",
    "            label_outputs[query] = []\n",
    "        label_outputs[query].append(manually_labelled/imgs_seen)\n",
    "        \n",
    "\n",
    "    \n",
    "for percentile in outputs:\n",
    "    print(f\"Query: {percentile}. IOU: {outputs[percentile]}\")\n",
    "    print(f\"Man Labelled: {label_outputs[percentile]}. Total Seen: {label_outputs[percentile]}\")"
   ]
  },
  {
   "cell_type": "code",
   "execution_count": 58,
   "id": "b0ffc626-0c6f-46af-976c-f63b3fe29ecb",
   "metadata": {},
   "outputs": [
    {
     "name": "stdout",
     "output_type": "stream",
     "text": [
      "Query: p01. IOU is: 372.12864077669894\n",
      "Query: best. IOU is: 377.5266990291262\n",
      "Query: worst. IOU is: 367.742718446602\n",
      "Query: middle. IOU is: 360.6577669902913\n",
      "Query: uniform. IOU is: 371.4538834951456\n",
      "Query: random. IOU is: 367.06796116504853\n"
     ]
    }
   ],
   "source": [
    "import numpy as np\n",
    "\n",
    "for query in outputs.keys():\n",
    "    print(f\"Query: {query}. IOU is: {(1-np.mean(label_outputs[query]))*834}\")"
   ]
  },
  {
   "cell_type": "code",
   "execution_count": 66,
   "id": "8cd3af46-023b-4df3-bc83-f1c7cb0bc732",
   "metadata": {},
   "outputs": [
    {
     "name": "stdout",
     "output_type": "stream",
     "text": [
      "[0.6310570130344554, 0.625819938697193, 0.6300576029740173]\n",
      "[0.629385368490747, 0.6269709208399963, 0.6337418848950455]\n",
      "(comparing best and p01: TtestResult(statistic=-0.41355684826963507, pvalue=0.7004095486520944, df=4.0)\n",
      "[0.6310570130344554, 0.625819938697193, 0.6300576029740173]\n",
      "[0.6250433215689938, 0.6261049739533889, 0.6291771503593486]\n",
      "(comparing best and worst: TtestResult(statistic=1.0862557401960224, pvalue=0.3384463761918357, df=4.0)\n",
      "[0.6310570130344554, 0.625819938697193, 0.6300576029740173]\n",
      "[0.6234954450416202, 0.6265116162935754, 0.6172260596965006]\n",
      "(comparing best and middle: TtestResult(statistic=2.070925197334014, pvalue=0.10711783005280331, df=4.0)\n",
      "[0.6310570130344554, 0.625819938697193, 0.6300576029740173]\n",
      "[0.6189696820818025, 0.6234066781860079, 0.6184663275100244]\n",
      "(comparing best and uniform: TtestResult(statistic=3.873847031489827, pvalue=0.01793474604346151, df=4.0)\n",
      "[0.6310570130344554, 0.625819938697193, 0.6300576029740173]\n",
      "[0.6154685610364192, 0.6221013357261744, 0.6171087351303316]\n",
      "(comparing best and random: TtestResult(statistic=4.199479156307795, pvalue=0.013701549953268109, df=4.0)\n"
     ]
    }
   ],
   "source": [
    "for i in [\"best\"]:\n",
    "    for j in outputs.keys():\n",
    "        if i==j:\n",
    "            continue\n",
    "        print(outputs[i])\n",
    "        print(outputs[j])\n",
    "        print(f\"(comparing {i} and {j}: {ttest_ind(outputs[i],outputs[j])}\")"
   ]
  },
  {
   "cell_type": "code",
   "execution_count": null,
   "id": "71a7cd34-a434-4db5-a7eb-20f9b8e4fec1",
   "metadata": {},
   "outputs": [],
   "source": []
  }
 ],
 "metadata": {
  "kernelspec": {
   "display_name": "Python 3 (ipykernel)",
   "language": "python",
   "name": "python3"
  },
  "language_info": {
   "codemirror_mode": {
    "name": "ipython",
    "version": 3
   },
   "file_extension": ".py",
   "mimetype": "text/x-python",
   "name": "python",
   "nbconvert_exporter": "python",
   "pygments_lexer": "ipython3",
   "version": "3.10.12"
  }
 },
 "nbformat": 4,
 "nbformat_minor": 5
}
